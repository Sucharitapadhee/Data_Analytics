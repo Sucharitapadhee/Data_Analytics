{
 "cells": [
  {
   "cell_type": "code",
   "execution_count": 18,
   "id": "b12f7582-e868-4afd-81ed-b70d9ddb3d66",
   "metadata": {
    "tags": []
   },
   "outputs": [],
   "source": [
    "import datetime as dt"
   ]
  },
  {
   "cell_type": "code",
   "execution_count": 19,
   "id": "cc85b007-c055-401b-8058-2bcd56172ca1",
   "metadata": {
    "tags": []
   },
   "outputs": [],
   "source": [
    "from dateutil.relativedelta import relativedelta as rd"
   ]
  },
  {
   "cell_type": "code",
   "execution_count": 20,
   "id": "ac726b44-6242-4c8c-908f-cebebe32a2eb",
   "metadata": {},
   "outputs": [],
   "source": [
    "class car_availability:\n",
    "    \n",
    "    def __init__(self,car_code,make,car_type,stock):\n",
    "        self.car_code=car_code\n",
    "        self.make=make\n",
    "        self.car_type=car_type\n",
    "        self.stock=stock\n",
    "        self.no_cars=0\n",
    "        self.available=self.stock-self.no_cars\n",
    "        \n",
    "    def display_availability(self):\n",
    "        print(\"Car code:{},Make:{},Car type:{},Available:{}\".format(self.car_code,self.make,self.car_type,self.available))\n",
    "        \n",
    "    def info(self):\n",
    "        c1.display_availability()\n",
    "        c2.display_availability()\n",
    "        c3.display_availability()\n",
    "        c4.display_availability()\n",
    "        c5.display_availability()\n",
    "        \n",
    "    def booking_options(self):\n",
    "        self.car_code=input(\"Enter the selected car code :\").lower()\n",
    "        self.no_cars=int(input(\"No of cars required :\"))\n",
    "        if 0<self.no_cars <= self.available:\n",
    "            self.available-=self.no_cars\n",
    "        else:\n",
    "            print(\"Requested cars should be greater than zero and less than or equal to availability\")\n",
    "            \n",
    "        self.rental_mode=input(\"Enter the rental mode(H:Hourly,D:Daily,W:Weekend) :\\t\").upper()\n",
    "        if self.rental_mode==\"H\":\n",
    "            start_d=input(\"Enter start date(dd:mm:yyyy):\\t\")\n",
    "            start_t=input(\"Enter start time (24 hr format,hh:mm):\\t\")\n",
    "            start=start_d+\" \"+start_t\n",
    "            date_format_str=\"%d:%m:%Y:%H:%M\"\n",
    "            self.trip_start=dt.datetime.strptime(start,date_format_str)\n",
    "            print(\"Booking was successful\")\n",
    "            self.trip_end=dt.datetime.now()\n",
    "            time=rd(self.trip_end,self.trip_start)\n",
    "            if time.minutes>=30:\n",
    "                self.duration=(time.hours+1)\n",
    "                amount= self.duration * 55\n",
    "            else:\n",
    "                self.duration= time.hours\n",
    "                amount= self.duration*55\n",
    "                self.amount = amount*self.no_cars\n",
    "                \n",
    "        elif self.rental_mode==\"D\":\n",
    "                start_date= input(\"Enter start date (dd:mm:yyyy):\\t\")\n",
    "                end_date= input(\"Enter end date(dd:mm:yyyy):\\t\")\n",
    "                print(\"Booking was successful\")\n",
    "                date_format = \"%d:%m:%Y\"\n",
    "                self.trip_start=dt.datetime.strptime(start_date,\"%d:%m:%Y\")\n",
    "                self.trip_end=dt.datetime.strptime(end_date,\"%d:%m:%Y\")\n",
    "                time=rd(self.trip_end,self.trip_start)\n",
    "                if time.hours>=10:\n",
    "                    self.duration=(time.days+1)\n",
    "                    self.amount=self.duration*1000\n",
    "                else:\n",
    "                    self.duration=time.days\n",
    "                    amount=self.durations * 1000\n",
    "                    self.amount= amount*self.no_cars\n",
    "        else:\n",
    "                self.start_date=input(\"Enter weekend(dd:mm:yyyy):\\t\")\n",
    "                print(\"Booking was successful\")\n",
    "                self.trip_start=dt.datetimr.strptime(self.start_date,'%d:%m:%Y')\n",
    "                self.trip_end=dt.datetime.today()\n",
    "                time=rd(self.trip_end,self.trip_start)\n",
    "                self.duration=time.days\n",
    "                amount=self.duration*2500\n",
    "                self.amount= amount*self.no_cars\n",
    "                \n",
    "        def bill_(self):\n",
    "            print(\"\"\"       Bill\n",
    "                       Customer Name               :{}\n",
    "                       Address                     :{}\n",
    "                       Car Code                    :{}\n",
    "                       Number of cars rented       :{}\n",
    "                       Rented on                   :{}\n",
    "                       Returned on                 :{}\n",
    "                       Rental_mode                 :{}\n",
    "                       Rental_time(hours/days)     :{}\n",
    "                       Total_amt                   :{}Rupees\"\"\".format(self.c_name,self.c_add,self.car_code,self.no_cars,self.trip_start,\n",
    "                                                                       self.trip_end,self.rental_mode,self.duration,self.amount))"
   ]
  },
  {
   "cell_type": "code",
   "execution_count": 21,
   "id": "6960f3a2-3477-4f94-b85e-f43d9a46be76",
   "metadata": {
    "tags": []
   },
   "outputs": [],
   "source": [
    "class cust_details(car_availability):\n",
    "    def c_details(self,c_name,c_add):\n",
    "        self.c_name=c_name\n",
    "        self.c_add=c_add\n",
    "        \n",
    "    def customers_details (self):\n",
    "        self.c_name=input(\"Enter name:\").title()\n",
    "        self.c_add=input(\"Enter address:\").title()\n",
    "        b_r=input(\"Do you wish to book a car (Y/N):\").upper()\n",
    "        if b_r==\"Y\":\n",
    "            self.booking_options()\n",
    "        else:\n",
    "            self.available +=self.no_cars\n",
    "            self.bill_()"
   ]
  },
  {
   "cell_type": "code",
   "execution_count": 22,
   "id": "2fda0473-be92-474e-af3f-31e33c3a51fc",
   "metadata": {},
   "outputs": [],
   "source": [
    "c1=cust_details(\"c1\",\"Toyota\",\"4-seater\",6)\n",
    "c2=cust_details(\"c2\",\"Honda\",\"6-seater\",8)\n",
    "c3=cust_details(\"c3\",\"Tata\",\"8-seater\",10)\n",
    "c4=cust_details(\"c4\",\"Hyundai\",\"4-seater\",5)\n",
    "c5=cust_details(\"c5\",\"Mercedes\",\"8-seater\",12)"
   ]
  },
  {
   "cell_type": "code",
   "execution_count": 23,
   "id": "cd51c843-a5df-4fa0-ab99-791ec72566b2",
   "metadata": {
    "tags": []
   },
   "outputs": [],
   "source": [
    "import pandas as pd"
   ]
  },
  {
   "cell_type": "code",
   "execution_count": 24,
   "id": "db731625-b66e-4d7a-bd36-14cd7960fd5d",
   "metadata": {
    "tags": []
   },
   "outputs": [
    {
     "data": {
      "text/html": [
       "<div>\n",
       "<style scoped>\n",
       "    .dataframe tbody tr th:only-of-type {\n",
       "        vertical-align: middle;\n",
       "    }\n",
       "\n",
       "    .dataframe tbody tr th {\n",
       "        vertical-align: top;\n",
       "    }\n",
       "\n",
       "    .dataframe thead th {\n",
       "        text-align: right;\n",
       "    }\n",
       "</style>\n",
       "<table border=\"1\" class=\"dataframe\">\n",
       "  <thead>\n",
       "    <tr style=\"text-align: right;\">\n",
       "      <th></th>\n",
       "      <th>car_code</th>\n",
       "      <th>make</th>\n",
       "      <th>car_type</th>\n",
       "      <th>stock</th>\n",
       "    </tr>\n",
       "  </thead>\n",
       "  <tbody>\n",
       "    <tr>\n",
       "      <th>0</th>\n",
       "      <td>c1</td>\n",
       "      <td>Toyota</td>\n",
       "      <td>4-seater</td>\n",
       "      <td>6</td>\n",
       "    </tr>\n",
       "    <tr>\n",
       "      <th>1</th>\n",
       "      <td>c2</td>\n",
       "      <td>Honda</td>\n",
       "      <td>6-seater</td>\n",
       "      <td>8</td>\n",
       "    </tr>\n",
       "    <tr>\n",
       "      <th>2</th>\n",
       "      <td>c3</td>\n",
       "      <td>Tata</td>\n",
       "      <td>8-seater</td>\n",
       "      <td>10</td>\n",
       "    </tr>\n",
       "    <tr>\n",
       "      <th>3</th>\n",
       "      <td>c4</td>\n",
       "      <td>Hyundai</td>\n",
       "      <td>4-seater</td>\n",
       "      <td>5</td>\n",
       "    </tr>\n",
       "    <tr>\n",
       "      <th>4</th>\n",
       "      <td>c5</td>\n",
       "      <td>Mercedes</td>\n",
       "      <td>8-seater</td>\n",
       "      <td>12</td>\n",
       "    </tr>\n",
       "  </tbody>\n",
       "</table>\n",
       "</div>"
      ],
      "text/plain": [
       "  car_code      make  car_type  stock\n",
       "0       c1    Toyota  4-seater      6\n",
       "1       c2     Honda  6-seater      8\n",
       "2       c3      Tata  8-seater     10\n",
       "3       c4   Hyundai  4-seater      5\n",
       "4       c5  Mercedes  8-seater     12"
      ]
     },
     "execution_count": 24,
     "metadata": {},
     "output_type": "execute_result"
    }
   ],
   "source": [
    "pd.read_excel(\"~/work/datasets/Car_rental module.xlsx\")"
   ]
  },
  {
   "cell_type": "code",
   "execution_count": null,
   "id": "60c6813c-f428-4357-bd8b-0eb69cbeae28",
   "metadata": {},
   "outputs": [],
   "source": []
  }
 ],
 "metadata": {
  "kernelspec": {
   "display_name": "Python 3 (ipykernel)",
   "language": "python",
   "name": "python3"
  },
  "language_info": {
   "codemirror_mode": {
    "name": "ipython",
    "version": 3
   },
   "file_extension": ".py",
   "mimetype": "text/x-python",
   "name": "python",
   "nbconvert_exporter": "python",
   "pygments_lexer": "ipython3",
   "version": "3.11.5"
  }
 },
 "nbformat": 4,
 "nbformat_minor": 5
}
